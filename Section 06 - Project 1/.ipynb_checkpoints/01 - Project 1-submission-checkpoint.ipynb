{
 "cells": [
  {
   "cell_type": "markdown",
   "metadata": {},
   "source": [
    "### Project 1"
   ]
  },
  {
   "cell_type": "markdown",
   "metadata": {},
   "source": [
    "In this project our goal is to validate one dictionary structure against a template dictionary.\n",
    "\n",
    "A typical example of this might be working with JSON data inputs in an API. You are trying to validate this received JSON against some kind of template to make sure the received JSON conforms to that template (i.e. all the keys and structure are identical - value types being important, but not the value itself - so just the structure, and the data type of the values).\n",
    "\n",
    "To keep things simple we'll assume that values can be either single values (like an integer, string, etc), or a dictionary, itself only containing single values or other dictionaries, recursively. In other words, we're not going to deal with lists as possible values. Also, to keep things simple, we'll assume that all keys are **required**, and that no extra keys are permitted.\n",
    "\n",
    "In practice we would not have these simplifying assumptions, and although we could definitely write this ourselves, there are many 3rd party libraries that already exist to do this (such as `jsonschema`, `marshmallow`, and many more, some of which I'll cover lightly in some later videos.)"
   ]
  },
  {
   "cell_type": "markdown",
   "metadata": {},
   "source": [
    "For example you might have this template:"
   ]
  },
  {
   "cell_type": "code",
   "execution_count": 1,
   "metadata": {},
   "outputs": [],
   "source": [
    "template = {\n",
    "    'user_id': int,\n",
    "    'name': {\n",
    "        'first': str,\n",
    "        'last': str\n",
    "    },\n",
    "    'bio': {\n",
    "        'dob': {\n",
    "            'year': int,\n",
    "            'month': int,\n",
    "            'day': int\n",
    "        },\n",
    "        'birthplace': {\n",
    "            'country': str,\n",
    "            'city': str\n",
    "        }\n",
    "    }\n",
    "}"
   ]
  },
  {
   "cell_type": "markdown",
   "metadata": {},
   "source": [
    "So, a JSON document such as this would match the template:"
   ]
  },
  {
   "cell_type": "code",
   "execution_count": 2,
   "metadata": {},
   "outputs": [],
   "source": [
    "john = {\n",
    "    'user_id': 100,\n",
    "    'name': {\n",
    "        'first': 'John',\n",
    "        'last': 'Cleese'\n",
    "    },\n",
    "    'bio': {\n",
    "        'dob': {\n",
    "            'year': 1939,\n",
    "            'month': 11,\n",
    "            'day': 27\n",
    "        },\n",
    "        'birthplace': {\n",
    "            'country': 'United Kingdom',\n",
    "            'city': 'Weston-super-Mare'\n",
    "        }\n",
    "    }\n",
    "}"
   ]
  },
  {
   "cell_type": "markdown",
   "metadata": {},
   "source": [
    "But this one would **not** match the template (missing key):"
   ]
  },
  {
   "cell_type": "code",
   "execution_count": 3,
   "metadata": {},
   "outputs": [],
   "source": [
    "eric = {\n",
    "    'user_id': 101,\n",
    "    'name': {\n",
    "        'first': 'Eric',\n",
    "        'last': 'Idle'\n",
    "    },\n",
    "    'bio': {\n",
    "        'dob': {\n",
    "            'year': 1943,\n",
    "            'month': 3,\n",
    "            'day': 29\n",
    "        },\n",
    "        'birthplace': {\n",
    "            'country': 'United Kingdom'\n",
    "        }\n",
    "    }\n",
    "}"
   ]
  },
  {
   "cell_type": "markdown",
   "metadata": {},
   "source": [
    "And neither would this one (wrong data type):"
   ]
  },
  {
   "cell_type": "code",
   "execution_count": 4,
   "metadata": {},
   "outputs": [],
   "source": [
    "michael = {\n",
    "    'user_id': 102,\n",
    "    'name': {\n",
    "        'first': 'Michael',\n",
    "        'last': 'Palin'\n",
    "    },\n",
    "    'bio': {\n",
    "        'dob': {\n",
    "            'year': 1943,\n",
    "            'month': 'May',\n",
    "            'day': 5\n",
    "        },\n",
    "        'birthplace': {\n",
    "            'country': 'United Kingdom',\n",
    "            'city': 'Sheffield'\n",
    "        }\n",
    "    }\n",
    "}"
   ]
  },
  {
   "cell_type": "markdown",
   "metadata": {},
   "source": [
    "Write a function such this:"
   ]
  },
  {
   "cell_type": "code",
   "execution_count": 24,
   "metadata": {},
   "outputs": [
    {
     "ename": "SyntaxError",
     "evalue": "cannot assign to conditional expression (1004940857.py, line 8)",
     "output_type": "error",
     "traceback": [
      "\u001b[0;36m  File \u001b[0;32m\"/tmp/ipykernel_12711/1004940857.py\"\u001b[0;36m, line \u001b[0;32m8\u001b[0m\n\u001b[0;31m    res[k] = v if type(v) == type else res[k] = type(v)\u001b[0m\n\u001b[0m             ^\u001b[0m\n\u001b[0;31mSyntaxError\u001b[0m\u001b[0;31m:\u001b[0m cannot assign to conditional expression\n"
     ]
    }
   ],
   "source": [
    "def flatten_dict(d):\n",
    "    res = {}\n",
    "    for k, v in d.items():\n",
    "        if isinstance(v, dict):\n",
    "            res.setdefault(k,dict)\n",
    "            res.update(flatten_dict(v))\n",
    "        else:\n",
    "            if type(v) == type:\n",
    "                res[k] = v\n",
    "            else:\n",
    "                res[k] = type(v)\n",
    "    return res\n",
    "\n",
    "\n",
    "\n",
    "def validate(d, template):\n",
    "    dt = flatten_dict(d)\n",
    "    templ = flatten_dict(template)\n",
    "    # keys_diff = dt.keys() ^ templ.keys()\n",
    "    \n",
    "    \n",
    "    for k,v in templ.items():\n",
    "        if k not in dt.keys():\n",
    "            raise KeyError(f'{k} does not exist')\n",
    "        \n",
    "        # print(v, dt[k])\n",
    "        # if type(v) != type(dt[k]):\n",
    "        #     raise TypeError(f'Data type for key {k}: {v} does not match')\n",
    "            \n",
    "    return templ\n",
    "        \n",
    "\n",
    "validate(michael, template)"
   ]
  },
  {
   "cell_type": "markdown",
   "metadata": {},
   "source": [
    "That should return this:\n",
    "* `validate(john, template) --> True, ''`\n",
    "* `validate(eric, template) --> False, 'mismatched keys: bio.birthplace.city'`\n",
    "* `validate(michael, template) --> False, 'bad type: bio.dob.month'`"
   ]
  },
  {
   "cell_type": "markdown",
   "metadata": {},
   "source": [
    "Better yet, use exceptions instead of return codes and strings!"
   ]
  },
  {
   "cell_type": "markdown",
   "metadata": {},
   "source": [
    "# Sandbox"
   ]
  },
  {
   "cell_type": "code",
   "execution_count": null,
   "metadata": {},
   "outputs": [],
   "source": [
    "#     for k, v in flat_d.items():\n",
    "#         if v == dict:\n",
    "#             path += f'{k}.'\n",
    "            \n",
    "#         if k not in flat_t.keys():\n",
    "#             raise KeyError(f'{k} not in template')\n",
    "            \n",
    "#         elif v != flat_t[k]:\n",
    "#             raise TypeError(\n",
    "#                 # f'Dtype missmatch for key:{k}. d={v}, template={flat_t[k]}'\n",
    "#                 f'Missmatch data type: d.{path+k}={v}, template.{path+k}={flat_t[k]}'\n",
    "#             )\n",
    "    \n",
    "#     return flat_d\n"
   ]
  },
  {
   "cell_type": "code",
   "execution_count": 234,
   "metadata": {},
   "outputs": [
    {
     "ename": "KeyError",
     "evalue": "'c.z not in dictionary'",
     "output_type": "error",
     "traceback": [
      "\u001b[0;31m---------------------------------------------------------------------------\u001b[0m",
      "\u001b[0;31mKeyError\u001b[0m                                  Traceback (most recent call last)",
      "\u001b[0;32m/tmp/ipykernel_12711/1339772477.py\u001b[0m in \u001b[0;36m<module>\u001b[0;34m\u001b[0m\n\u001b[1;32m     45\u001b[0m         \u001b[0;32mraise\u001b[0m \u001b[0mKeyError\u001b[0m\u001b[0;34m(\u001b[0m\u001b[0;34mf'{\",\".join(r_key)} not in template'\u001b[0m\u001b[0;34m)\u001b[0m\u001b[0;34m\u001b[0m\u001b[0;34m\u001b[0m\u001b[0m\n\u001b[1;32m     46\u001b[0m \u001b[0;34m\u001b[0m\u001b[0m\n\u001b[0;32m---> 47\u001b[0;31m \u001b[0mvalidate\u001b[0m\u001b[0;34m(\u001b[0m\u001b[0md1\u001b[0m\u001b[0;34m,\u001b[0m \u001b[0md2\u001b[0m\u001b[0;34m)\u001b[0m\u001b[0;34m\u001b[0m\u001b[0;34m\u001b[0m\u001b[0m\n\u001b[0m\u001b[1;32m     48\u001b[0m \u001b[0;34m\u001b[0m\u001b[0m\n\u001b[1;32m     49\u001b[0m \u001b[0;34m\u001b[0m\u001b[0m\n",
      "\u001b[0;32m/tmp/ipykernel_12711/1339772477.py\u001b[0m in \u001b[0;36mvalidate\u001b[0;34m(d, template)\u001b[0m\n\u001b[1;32m     40\u001b[0m \u001b[0;34m\u001b[0m\u001b[0m\n\u001b[1;32m     41\u001b[0m     \u001b[0;32mif\u001b[0m \u001b[0;34m(\u001b[0m\u001b[0mr_key\u001b[0m\u001b[0;34m:=\u001b[0m \u001b[0mvalidate_key\u001b[0m\u001b[0;34m(\u001b[0m\u001b[0mflat_t\u001b[0m\u001b[0;34m,\u001b[0m \u001b[0mflat_d\u001b[0m\u001b[0;34m)\u001b[0m\u001b[0;34m)\u001b[0m\u001b[0;34m:\u001b[0m\u001b[0;34m\u001b[0m\u001b[0;34m\u001b[0m\u001b[0m\n\u001b[0;32m---> 42\u001b[0;31m         \u001b[0;32mraise\u001b[0m \u001b[0mKeyError\u001b[0m\u001b[0;34m(\u001b[0m\u001b[0;34mf'{\",\".join(r_key)} not in dictionary'\u001b[0m\u001b[0;34m)\u001b[0m\u001b[0;34m\u001b[0m\u001b[0;34m\u001b[0m\u001b[0m\n\u001b[0m\u001b[1;32m     43\u001b[0m \u001b[0;34m\u001b[0m\u001b[0m\n\u001b[1;32m     44\u001b[0m     \u001b[0;32mif\u001b[0m \u001b[0;34m(\u001b[0m\u001b[0mr_key\u001b[0m\u001b[0;34m:=\u001b[0m \u001b[0mvalidate_key\u001b[0m\u001b[0;34m(\u001b[0m\u001b[0mflat_d\u001b[0m\u001b[0;34m,\u001b[0m \u001b[0mflat_t\u001b[0m\u001b[0;34m)\u001b[0m\u001b[0;34m)\u001b[0m\u001b[0;34m:\u001b[0m\u001b[0;34m\u001b[0m\u001b[0;34m\u001b[0m\u001b[0m\n",
      "\u001b[0;31mKeyError\u001b[0m: 'c.z not in dictionary'"
     ]
    }
   ],
   "source": [
    "def flatten_dict(d):\n",
    "    res = {}\n",
    "    for k, v in d.items():\n",
    "        if isinstance(v, dict):\n",
    "            res.setdefault(k,dict)\n",
    "            res.update(flatten_dict(v))\n",
    "        else:\n",
    "            if type(v) == type:\n",
    "                res[k] = v\n",
    "            else:\n",
    "                res[k] = type(v)\n",
    "    return res\n",
    "\n",
    "def get_path(d, missing_key):\n",
    "    p = f''\n",
    "    for k, v in d.items():\n",
    "        if v == dict:\n",
    "            p += f'{k}.'\n",
    "            \n",
    "        elif k in missing_key:\n",
    "            p+= f'{k}'\n",
    "            break\n",
    "    return p\n",
    "\n",
    "def validate_key(flat_d1, flat_d2):\n",
    "    validate_key = flat_d1.keys() - flat_d2.keys()\n",
    "    \n",
    "    missing_key = []\n",
    "    if validate_key:\n",
    "        for i in validate_key:\n",
    "            missing_key.append(get_path(flat_d1, i))\n",
    "    \n",
    "    return missing_key\n",
    "            \n",
    "    \n",
    "\n",
    "def validate(d, template):\n",
    "    flat_d = flatten_dict(d)\n",
    "    flat_t = flatten_dict(template)\n",
    "    \n",
    "    if (r_key:= validate_key(flat_t, flat_d)):\n",
    "        raise KeyError(f'{\",\".join(r_key)} not in dictionary')\n",
    "        \n",
    "    if (r_key:= validate_key(flat_d, flat_t)):\n",
    "        raise KeyError(f'{\",\".join(r_key)} not in template')\n",
    "    \n",
    "validate(d1, d2)    \n",
    "\n",
    "\n",
    "\n",
    "d1 = {'a':1,\n",
    "     'b':2,\n",
    "     'c':{'x':1,\n",
    "          'y':2\n",
    "         }\n",
    "    }\n",
    "\n",
    "d2 = {'a':int,\n",
    "     'b':int,\n",
    "     'c':{'x':int,\n",
    "          'y':int,\n",
    "          'z':int,\n",
    "         }\n",
    "    }\n",
    "\n",
    "# flatten_dict(d2)\n",
    "\n",
    "# validate_key(flat_t,flat_d)\n",
    "# get_path(flat_t, {'a'})"
   ]
  },
  {
   "cell_type": "code",
   "execution_count": 215,
   "metadata": {},
   "outputs": [
    {
     "data": {
      "text/plain": [
       "'c.z'"
      ]
     },
     "execution_count": 215,
     "metadata": {},
     "output_type": "execute_result"
    }
   ],
   "source": [
    "d2 = {'a':int,\n",
    "     'b':int,\n",
    "     'c':{'x':int,\n",
    "          'y':int,\n",
    "          'z':int,\n",
    "         }\n",
    "    }\n",
    "\n",
    "def path(d, missing_key):\n",
    "    p = f''\n",
    "    for k, v in d.items():\n",
    "        if v == dict:\n",
    "            p += f'{k}.'\n",
    "            \n",
    "        elif k in missing_key:\n",
    "            p+= f'{k}'\n",
    "            break\n",
    "    return p\n",
    "\n",
    "path(flatten_dict(d2), {'z'})"
   ]
  },
  {
   "cell_type": "code",
   "execution_count": 212,
   "metadata": {},
   "outputs": [
    {
     "data": {
      "text/plain": [
       "{'b'}"
      ]
     },
     "execution_count": 212,
     "metadata": {},
     "output_type": "execute_result"
    }
   ],
   "source": [
    "t1 = {'a','b'}\n",
    "t2 = {'a'}\n",
    "\n",
    "t1 - t2"
   ]
  }
 ],
 "metadata": {
  "kernelspec": {
   "display_name": "Python 3 (ipykernel)",
   "language": "python",
   "name": "python3"
  },
  "language_info": {
   "codemirror_mode": {
    "name": "ipython",
    "version": 3
   },
   "file_extension": ".py",
   "mimetype": "text/x-python",
   "name": "python",
   "nbconvert_exporter": "python",
   "pygments_lexer": "ipython3",
   "version": "3.9.5"
  }
 },
 "nbformat": 4,
 "nbformat_minor": 4
}
