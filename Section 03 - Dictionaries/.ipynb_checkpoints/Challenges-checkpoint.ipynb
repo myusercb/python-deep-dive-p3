{
 "cells": [
  {
   "cell_type": "markdown",
   "id": "281dd832-7a8d-49fc-8bf3-6da66b2a2978",
   "metadata": {},
   "source": [
    "# Challenges"
   ]
  },
  {
   "cell_type": "markdown",
   "id": "dfde2237-2f6e-4da6-b1d7-90acf9d7eba4",
   "metadata": {},
   "source": [
    "### Dictionary notes:\n",
    "- dictionary keys have to be hashable, only imutable objects can be hashable\n",
    "- when using hashes the hash value is guaranteed on any given program run sessions however not between different program runs"
   ]
  },
  {
   "cell_type": "markdown",
   "id": "59d00d64-1c0b-4500-a3e3-f6c015fa693b",
   "metadata": {},
   "source": [
    "---"
   ]
  },
  {
   "cell_type": "markdown",
   "id": "d22e47e0-d4bb-42fc-a117-32e569b1fe44",
   "metadata": {},
   "source": [
    "## Create dictionaries"
   ]
  },
  {
   "cell_type": "markdown",
   "id": "1ff433cc-ec1f-4195-ae5a-ad7850693451",
   "metadata": {},
   "source": [
    "### Challenge 1\n",
    "Create a dictionary using `literals` with the key values `john:John, chris:Chris`"
   ]
  },
  {
   "cell_type": "code",
   "execution_count": null,
   "id": "456d5fa4-8dcb-4c3d-a56a-bf7944967ad3",
   "metadata": {
    "tags": []
   },
   "outputs": [],
   "source": [
    "# Example\n",
    "{'john':'John', 'chris':'Chris'}"
   ]
  },
  {
   "cell_type": "code",
   "execution_count": 2,
   "id": "a744eb07-86b1-4bab-bc7f-af4ae697fcf2",
   "metadata": {},
   "outputs": [],
   "source": [
    "#done"
   ]
  },
  {
   "cell_type": "markdown",
   "id": "08634e25-1ded-4e50-acd9-b254db6b6c28",
   "metadata": {},
   "source": [
    "### Chalenge 2\n",
    "Create a dictionary using a `constructor` with key values, `key1:value1, key2:value2`.\n",
    "\n",
    "Question:\n",
    "> What is the constraint when creating a dictionary using a constructor?"
   ]
  },
  {
   "cell_type": "code",
   "execution_count": null,
   "id": "ec0a0794-506e-4582-85c7-9f41d32370ff",
   "metadata": {
    "tags": []
   },
   "outputs": [],
   "source": [
    "# Example\n",
    "# The constraint using a literal is that the key will always be a string\n",
    "dict(key1='value1', key2='value2')"
   ]
  },
  {
   "cell_type": "code",
   "execution_count": 3,
   "id": "4e95fa99-a9e5-4bcb-bcb9-df775d8daf22",
   "metadata": {},
   "outputs": [
    {
     "data": {
      "text/plain": [
       "{'key1': 'value1', 'key2': 'value2'}"
      ]
     },
     "execution_count": 3,
     "metadata": {},
     "output_type": "execute_result"
    }
   ],
   "source": [
    "#done"
   ]
  },
  {
   "cell_type": "markdown",
   "id": "b3cd37a4-80e1-47fe-a969-884a93f4f5b3",
   "metadata": {},
   "source": [
    "### Challenge 3\n",
    "> Create a dictionary using `comprehension`. <br>\n",
    "\n",
    "Using phrase `python is amazing` create a dictionary that will contain the words as keys and the length of the word as values. "
   ]
  },
  {
   "cell_type": "code",
   "execution_count": null,
   "id": "f7f280b1-5ca8-459b-8abe-68568aba74b1",
   "metadata": {
    "tags": []
   },
   "outputs": [],
   "source": [
    "# Example\n",
    "{k:len(k) for k in 'python is amazing'.split()}"
   ]
  },
  {
   "cell_type": "code",
   "execution_count": 6,
   "id": "098bc7e9-196e-4fb5-b7b5-af7f4fd1ac0a",
   "metadata": {},
   "outputs": [],
   "source": [
    "# done"
   ]
  },
  {
   "cell_type": "markdown",
   "id": "ea23ca7e-f5bd-4b17-b94c-3b3dd71dcb43",
   "metadata": {},
   "source": [
    "### Challenge 4\n",
    "> Crate a dict using `fromkeys` method of `dict`. <br>\n",
    "\n",
    "Create a dict that takes iterable `['key1','key2','key3']` and adds the values `'N/A'`\n",
    "\n",
    "Note:\n",
    "> this method is useful when all values must be the same but keys are different"
   ]
  },
  {
   "cell_type": "code",
   "execution_count": null,
   "id": "f60f461d-50a3-4361-b3b4-697bd425948e",
   "metadata": {
    "tags": []
   },
   "outputs": [],
   "source": [
    "# Example\n",
    "dict.fromkeys(['key1','key2','key3'], 'N/A')"
   ]
  },
  {
   "cell_type": "code",
   "execution_count": 8,
   "id": "b91b39f1-ca02-4781-b0a1-458442fc5dee",
   "metadata": {},
   "outputs": [],
   "source": [
    "# done"
   ]
  },
  {
   "cell_type": "markdown",
   "id": "10df42c3-4c46-4d0b-9844-35b22256427a",
   "metadata": {},
   "source": [
    "### Challenge 5\n",
    "\n",
    "> Dictionaries are creating hash values which are associated with each key of a dictionary for the purpose of looking up the values. Dictionaries are not using object ids as in `id(object)`. Therefor even if we have different objects, identical in structure the search lookup will still work with a dictionary.\n",
    "\n",
    "Create an object named `h1` which is a `hash` of tuple `(1,2,3)`. <br>\n",
    "Create a second object `h2` which is a hash of the same tuple `(1,2,3)`<br>\n",
    "Create a dictionary named `dt` with key `h1` and value `'this is a tuple'` <br>\n",
    "Try to lookup the value inside dictionary using `h1` and `h2`."
   ]
  },
  {
   "cell_type": "code",
   "execution_count": null,
   "id": "4ad1d228-652a-4492-9f9c-dcef3d65ee7e",
   "metadata": {
    "tags": []
   },
   "outputs": [],
   "source": [
    "# Example\n",
    "h1 = 1,2,3\n",
    "h2 = 1,2,3\n",
    "\n",
    "dt = {h1:'this is a tuple'}\n",
    "print(dt[h1], hash(h1))\n",
    "print(dt[h2], hash(h2)) # works with both objects because the hash is the same\n",
    "print(id(h1), id(h2)) # even though they are different objects"
   ]
  },
  {
   "cell_type": "code",
   "execution_count": 16,
   "id": "71f697de-6a2d-4162-9697-12614eba1fe1",
   "metadata": {},
   "outputs": [],
   "source": [
    "# done"
   ]
  },
  {
   "cell_type": "markdown",
   "id": "8dee3a7a-4695-4965-84d9-ed3d709d5917",
   "metadata": {},
   "source": [
    "### Challenge 6\n",
    "\n",
    "> Functions can be hashable too, let's explore the concept. <br>\n",
    "\n",
    "Create a function `fn_add` that takes two numbers and performs addition.<br>\n",
    "Create a function `fn_inv` that takes one argument and returns 1 / argument <br>\n",
    "Create a function `fn_mult` that takes 2 args and multiplies them <br>\n",
    "\n",
    "Check if any of the functions is hashable.<br>\n",
    "Create a dictionary named `funcs` that takes each function and tuples `(1,2), (2,), (1,2)` using a literal. <br>\n",
    "Create a for loop where we call each function with it's associated value. <br>"
   ]
  },
  {
   "cell_type": "code",
   "execution_count": null,
   "id": "9525e9ae-6f02-4235-a4c2-af84aa9672e8",
   "metadata": {
    "tags": []
   },
   "outputs": [],
   "source": [
    "# Example\n",
    "def fn_add(a,b):\n",
    "    return a+b\n",
    "\n",
    "def fn_inv(a):\n",
    "    return 1/a\n",
    "\n",
    "def fn_mult(a,b):\n",
    "    return a*b\n",
    "\n",
    "print(hash(squares), 'Function is hashable')\n",
    "\n",
    "dt = {fn_add:(1,2),\n",
    "      fn_inv:(2,),\n",
    "      fn_mult:(1,2)\n",
    "     }\n",
    "\n",
    "for f, args in dt.items():\n",
    "    print('result is:', f(*args))"
   ]
  },
  {
   "cell_type": "code",
   "execution_count": 19,
   "id": "c36f503d-56e8-447f-aad3-b220ac422063",
   "metadata": {},
   "outputs": [],
   "source": [
    "# done"
   ]
  },
  {
   "cell_type": "markdown",
   "id": "ca939794-5457-4938-a69e-ef3039eb89df",
   "metadata": {},
   "source": [
    "---"
   ]
  },
  {
   "cell_type": "markdown",
   "id": "6abdadf3-0a37-4e6d-8272-076e92739e0e",
   "metadata": {},
   "source": [
    "## Common operations"
   ]
  },
  {
   "cell_type": "markdown",
   "id": "5a942a8c-f016-42fc-900c-82975821ae54",
   "metadata": {},
   "source": [
    "### Challange 1\n",
    "> Using get method.\n",
    "\n",
    "Create a key called dt with value `'key':'value'` <br>\n",
    "Retrieve the value in the dictionary using explicit syntax. <br>\n",
    "Retrieve a value:`empty list` if key not available, test example with `key1` "
   ]
  },
  {
   "cell_type": "code",
   "execution_count": 5,
   "id": "185df61d-e092-4544-9c0e-bbc233bf63e1",
   "metadata": {},
   "outputs": [
    {
     "name": "stdout",
     "output_type": "stream",
     "text": [
      "value\n",
      "[]\n"
     ]
    }
   ],
   "source": [
    "# Example\n",
    "dt = {'key':'value'}\n",
    "\n",
    "print(dt.get('key'))\n",
    "print(dt.get('key1',[]))"
   ]
  },
  {
   "cell_type": "code",
   "execution_count": null,
   "id": "6890a869-95b7-452b-bd64-8566d7ab801d",
   "metadata": {},
   "outputs": [],
   "source": []
  },
  {
   "cell_type": "markdown",
   "id": "412beb2c-c8fd-4baa-8f6a-fa91f3b23103",
   "metadata": {},
   "source": [
    "### Challenge 2\n",
    "\n",
    "> Insert default value if key not exists else leave unchanged.\n",
    "\n",
    "Create a dictionary `dt` with values `{'a':1, 'b':2}` <br>\n",
    "Insert default value `'c':'test` <br>\n",
    "Insert default value `'a':'99'` <br>"
   ]
  },
  {
   "cell_type": "code",
   "execution_count": 17,
   "id": "f3411e97-3de5-4bf7-8f67-eb3f7d3c090f",
   "metadata": {},
   "outputs": [
    {
     "name": "stdout",
     "output_type": "stream",
     "text": [
      "{'a': 1, 'b': 2, 'c': 'test'}\n",
      "{'a': 1, 'b': 2, 'c': 'test'}\n"
     ]
    }
   ],
   "source": [
    "# Example\n",
    "\n",
    "dt = {'a':1, 'b':2}\n",
    "dt.setdefault('c','test')\n",
    "print(dt)\n",
    "dt.setdefault('a','99')\n",
    "print(dt)"
   ]
  },
  {
   "cell_type": "code",
   "execution_count": null,
   "id": "db85c28d-f17d-4beb-8069-9f2ba08561e8",
   "metadata": {},
   "outputs": [],
   "source": []
  },
  {
   "cell_type": "markdown",
   "id": "cffae6ae-a038-4fb5-9f5e-9ae2cc108d81",
   "metadata": {},
   "source": [
    "### Challenge 3\n",
    "\n",
    "> Count words in string with dictionary while making use of the default values and get method. <br>\n",
    "\n",
    "With `text='this this this part is amazing, how many words do you think are repeated?'` write a program that will count the frequency of words. <br>\n",
    "The output should be a dictionary."
   ]
  },
  {
   "cell_type": "code",
   "execution_count": 23,
   "id": "435fb078-7e66-4437-b82f-12ecfb7ddd74",
   "metadata": {},
   "outputs": [
    {
     "name": "stdout",
     "output_type": "stream",
     "text": [
      "{'this': 3, 'part': 1, 'is': 1, 'amazing,': 1, 'how': 1, 'many': 1, 'words': 1, 'do': 1, 'you': 1, 'think': 1, 'are': 1, 'repeated?': 1}\n"
     ]
    }
   ],
   "source": [
    "# Example\n",
    "\n",
    "text='this this this part is amazing, how many words do you think are repeated?'\n",
    "counts = dict()\n",
    "\n",
    "for c in text.split():\n",
    "    counts[c] = counts.get(c, 0) +1\n",
    "print(counts)"
   ]
  },
  {
   "cell_type": "code",
   "execution_count": null,
   "id": "fef1a532-c1af-48f0-91ab-543028509702",
   "metadata": {},
   "outputs": [],
   "source": []
  },
  {
   "cell_type": "markdown",
   "id": "81566269-6692-4f7b-a067-530778521381",
   "metadata": {},
   "source": [
    "### Challenge 4\n",
    "\n",
    "> Remove a dictionary element that does not exist without raising an error.\n",
    "\n",
    "Create a dictionary `dt` using dictionary `constructor` that has `keys='abcd`, and `values=1 to 4`. <br>\n",
    "\n",
    "Remove item `e`, if e does not exist the default return value should be `0`, but no errors should be raised in the proccess."
   ]
  },
  {
   "cell_type": "code",
   "execution_count": 28,
   "id": "9f27ba09-a21e-4295-901f-a3a833b0f74f",
   "metadata": {},
   "outputs": [
    {
     "name": "stdout",
     "output_type": "stream",
     "text": [
      "0\n",
      "{'a': 1, 'b': 2, 'c': 3, 'd': 4}\n"
     ]
    }
   ],
   "source": [
    "# Example\n",
    "\n",
    "dt = dict(zip('abcd',range(1,5)))\n",
    "result = dt.pop('e',0)\n",
    "print(result)\n",
    "print(dt)"
   ]
  },
  {
   "cell_type": "code",
   "execution_count": null,
   "id": "271dcd8e-8bd2-4c4c-b135-7be2119915e6",
   "metadata": {},
   "outputs": [],
   "source": []
  },
  {
   "cell_type": "markdown",
   "id": "8eed487a-d407-419b-a0e0-a971ea739f37",
   "metadata": {},
   "source": [
    "### Challenge 5\n",
    "\n",
    "> Remove the last item of the dictionary\n",
    "\n",
    "Create a dictionary using the `constructor` with a dictionary `comprehension` and a range up to 5 such that the key of the dict is an integer and the value is the integer's square. <br>\n",
    "\n",
    "Remove the last item of the dictionary."
   ]
  },
  {
   "cell_type": "code",
   "execution_count": 31,
   "id": "85cddb87-d64d-4c7d-8e26-edcc336b6d55",
   "metadata": {},
   "outputs": [
    {
     "name": "stdout",
     "output_type": "stream",
     "text": [
      "initial dict {0: 0, 1: 1, 2: 4, 3: 9, 4: 16}\n",
      "element to be deleted (4, 16)\n",
      "dict without last element {0: 0, 1: 1, 2: 4, 3: 9}\n"
     ]
    }
   ],
   "source": [
    "# Example\n",
    "\n",
    "d = dict({i:i**2 for i in range(0,5)})\n",
    "print('initial dict',d)\n",
    "last_element = d.popitem()\n",
    "print('element to be deleted',last_element)\n",
    "print('dict without last element',d)"
   ]
  },
  {
   "cell_type": "code",
   "execution_count": null,
   "id": "2747c83b-bbe1-49c6-9a29-44280b0d43dd",
   "metadata": {},
   "outputs": [],
   "source": []
  },
  {
   "cell_type": "markdown",
   "id": "afeb9248-002d-4a63-8369-013a939daeb9",
   "metadata": {},
   "source": [
    "### Challenge 6\n",
    "\n",
    "> Set a value in dictionary if not exists\n",
    "\n",
    "Create a dictionary `d={'a':1, 'b':2, 'c':3}`, set value `c:100` and `d:-10`. <br>\n",
    "The value should be added only if the key does not exist if it does nothing should change."
   ]
  },
  {
   "cell_type": "code",
   "execution_count": 36,
   "id": "4f01ba91-4203-4ffd-8e28-003f8a67b595",
   "metadata": {},
   "outputs": [
    {
     "name": "stdout",
     "output_type": "stream",
     "text": [
      "when value exists nothing changes {'a': 1, 'b': 2, 'c': 3}\n",
      "when value does not exists gets added {'a': 1, 'b': 2, 'c': 3, 'd': -10}\n"
     ]
    }
   ],
   "source": [
    "# Example\n",
    "\n",
    "d={'a':1, 'b':2, 'c':3}\n",
    "d.setdefault('c',100)\n",
    "print('when value exists nothing changes',d)\n",
    "d.setdefault('d',-10)\n",
    "print('when value does not exists gets added',d)"
   ]
  },
  {
   "cell_type": "code",
   "execution_count": null,
   "id": "15674c8a-1f0b-46e0-ad81-2d1155913b8c",
   "metadata": {},
   "outputs": [],
   "source": []
  },
  {
   "cell_type": "markdown",
   "id": "f6b4e8a9-095c-411c-8064-fa3a09849f42",
   "metadata": {},
   "source": [
    "---"
   ]
  },
  {
   "cell_type": "markdown",
   "id": "382f7411-b5b5-4867-9b0e-8ebe05b76157",
   "metadata": {},
   "source": [
    "## Dictionary Views\n",
    "- dt.keys() Note: keys are also sets which suport set like operations (union, intersection, difference etc), the condition for an iterable to be a set is to be hashable in it's entierty.\n",
    "- dt.values()\n",
    "- dt.items()"
   ]
  },
  {
   "cell_type": "markdown",
   "id": "a87dade2-ccd8-4d06-9a11-80b170c96d98",
   "metadata": {},
   "source": [
    "### Challenge 1\n",
    "\n",
    "> Dictionary keys union.\n",
    "\n",
    "Create two dictionaries `d1 = {'a':1, 'b':2, 'c':3}` and `d2 = {'c':3, 'd':4, 'e':5}`. <br>\n",
    "Perform a union for the dictionary keys."
   ]
  },
  {
   "cell_type": "code",
   "execution_count": 4,
   "id": "5e6afee5-cb68-4fc2-a731-53b0559f98f1",
   "metadata": {},
   "outputs": [
    {
     "data": {
      "text/plain": [
       "{'a', 'b', 'c', 'd', 'e'}"
      ]
     },
     "execution_count": 4,
     "metadata": {},
     "output_type": "execute_result"
    }
   ],
   "source": [
    "# Example\n",
    "\n",
    "d1 = {'a':1, 'b':2, 'c':3}\n",
    "d2 = {'c':3, 'd':4, 'e':5}\n",
    "\n",
    "d1.keys() | d2.keys()"
   ]
  },
  {
   "cell_type": "code",
   "execution_count": null,
   "id": "5f5f57a4-0848-4b6f-a707-6c68aa9cfb61",
   "metadata": {},
   "outputs": [],
   "source": []
  },
  {
   "cell_type": "markdown",
   "id": "b55fd7db-5ffa-4354-8f06-6e62ceb0ba94",
   "metadata": {},
   "source": [
    "### Challenge 2\n",
    "\n",
    "> Dictionary keys intersection.\n",
    "\n",
    "Create two dictionaries `d1 = {'a':1, 'b':2, 'c':3}` and `d2 = {'c':3, 'd':4, 'e':5}`. <br>\n",
    "Perform an intersection of the dictionary keys."
   ]
  },
  {
   "cell_type": "code",
   "execution_count": 5,
   "id": "02f008c4-36c7-465a-9f37-ba7094df2124",
   "metadata": {},
   "outputs": [
    {
     "data": {
      "text/plain": [
       "{'c'}"
      ]
     },
     "execution_count": 5,
     "metadata": {},
     "output_type": "execute_result"
    }
   ],
   "source": [
    "# Example\n",
    "\n",
    "d1 = {'a':1, 'b':2, 'c':3}\n",
    "d2 = {'c':3, 'd':4, 'e':5}\n",
    "\n",
    "d1.keys() & d2.keys()"
   ]
  },
  {
   "cell_type": "code",
   "execution_count": null,
   "id": "1723c507-56de-40e5-b36a-9b2e4f6bcfc2",
   "metadata": {},
   "outputs": [],
   "source": []
  },
  {
   "cell_type": "markdown",
   "id": "4491c8b0-2d60-49d6-9c5a-e5a48e77798e",
   "metadata": {},
   "source": [
    "### Challenge 3\n",
    "\n",
    "> Dictionary keys difference.\n",
    "\n",
    "Create two dictionaries `d1 = {'a':1, 'b':2, 'c':3}` and `d2 = {'c':3, 'd':4, 'e':5}`. <br>\n",
    "Perform an difference of the dictionary keys."
   ]
  },
  {
   "cell_type": "code",
   "execution_count": 7,
   "id": "cc96013e-d33d-450b-bd83-bd10ff2ba447",
   "metadata": {},
   "outputs": [
    {
     "data": {
      "text/plain": [
       "{'a', 'b'}"
      ]
     },
     "execution_count": 7,
     "metadata": {},
     "output_type": "execute_result"
    }
   ],
   "source": [
    "# Example\n",
    "\n",
    "d1 = {'a':1, 'b':2, 'c':3}\n",
    "d2 = {'c':3, 'd':4, 'e':5}\n",
    "\n",
    "# Shows elements that are in d1 and are not in d2\n",
    "d1.keys() - d2.keys()"
   ]
  },
  {
   "cell_type": "code",
   "execution_count": null,
   "id": "23d2da4c-d564-4ca2-a132-28206902ad34",
   "metadata": {},
   "outputs": [],
   "source": []
  },
  {
   "cell_type": "markdown",
   "id": "48d33916-121b-41ba-98fb-a13475e6fe4e",
   "metadata": {},
   "source": [
    "### Challenge 4\n",
    "\n",
    "> When we can't do operations like union (|), intersection (&), difference (-) with dictionaries.\n",
    "\n",
    "Create two dictionaries `d1 = {'a':(1,2)}` and `d2 = {'b':[3,4]}`. <br>\n",
    "Try to create a union of the two dictionary items and if there is an error explain what is happening."
   ]
  },
  {
   "cell_type": "code",
   "execution_count": 22,
   "id": "890aa6ff-05bd-4f71-8529-c87ef2074bb6",
   "metadata": {},
   "outputs": [],
   "source": [
    "# Example \n",
    "\n",
    "d1 = {'a':(1,2)}\n",
    "d2 = {'b':[3,4]}\n",
    "\n",
    "# d1.items() | d2.items()\n",
    "# The error we get is due to the fact that we we itemise an dictionary we \n",
    "# are trying to hash it's elements both keys and values. The problem arises \n",
    "# when we are trying to hash the list hahs([3,4]) as this list is unhashable\n",
    "# hence the error"
   ]
  },
  {
   "cell_type": "code",
   "execution_count": null,
   "id": "d8f5e28f-0d25-45e5-be44-457445697bbc",
   "metadata": {},
   "outputs": [],
   "source": []
  },
  {
   "cell_type": "markdown",
   "id": "eabac323-3c8f-4460-8d40-e0bf5a9859f8",
   "metadata": {},
   "source": [
    "### Challenge 5\n",
    "\n",
    "> Using simetric difference.\n",
    "\n",
    "Using `d1 = {'a':1, 'b':2, 'c':3, 'd':4}` and `d2 = {'a':10, 'b':20, 'c':30, 'e':5}` create a new dictionary only with elements that are not common."
   ]
  },
  {
   "cell_type": "code",
   "execution_count": 49,
   "id": "00f9b687-88f8-4704-ad94-04f6b2aed8fa",
   "metadata": {},
   "outputs": [
    {
     "data": {
      "text/plain": [
       "{'e': 5, 'd': 4}"
      ]
     },
     "execution_count": 49,
     "metadata": {},
     "output_type": "execute_result"
    }
   ],
   "source": [
    "# Example\n",
    "\n",
    "d1 = {'a':1, 'b':2, 'c':3, 'd':4}\n",
    "d2 = {'a':10, 'b':20, 'c':30, 'e':5}\n",
    "\n",
    "# Get simetric difference (all keys that are not common between dictionaries)\n",
    "ks = d1.keys() ^ d2.keys()\n",
    "\n",
    "{k:d1.get(k) or d2.get(k) for k in ks}"
   ]
  },
  {
   "cell_type": "code",
   "execution_count": null,
   "id": "a6e12bdc-e1e0-4855-ae79-1846eabbc9bc",
   "metadata": {},
   "outputs": [],
   "source": []
  },
  {
   "cell_type": "markdown",
   "id": "b04f4db1-80e3-41a7-9c53-c904db2ec58c",
   "metadata": {},
   "source": [
    "---"
   ]
  },
  {
   "cell_type": "markdown",
   "id": "06dfd510-0b7e-441b-a4b7-23ea7f2e2a33",
   "metadata": {},
   "source": [
    "## Updating Merging and Copying Dictionaries"
   ]
  },
  {
   "cell_type": "code",
   "execution_count": null,
   "id": "63e3679a-9c8d-479d-a831-eeb54a3b0e05",
   "metadata": {},
   "outputs": [],
   "source": []
  },
  {
   "cell_type": "code",
   "execution_count": null,
   "id": "9406bbdc-ae26-4f17-8a64-cc2592a48d63",
   "metadata": {},
   "outputs": [],
   "source": []
  },
  {
   "cell_type": "markdown",
   "id": "e26c246e-1aec-457e-a013-ee3a587fdd1e",
   "metadata": {},
   "source": [
    "# Sandbox"
   ]
  },
  {
   "cell_type": "markdown",
   "id": "3bd1b7a7-4a9f-4834-b694-a83a5f4cd38c",
   "metadata": {},
   "source": []
  },
  {
   "cell_type": "code",
   "execution_count": null,
   "id": "8f1fd3b8-8a53-4535-9755-09fa70da33f7",
   "metadata": {},
   "outputs": [],
   "source": []
  },
  {
   "cell_type": "code",
   "execution_count": null,
   "id": "28396d5d-5a83-4dc8-a705-0738c61b4bb2",
   "metadata": {},
   "outputs": [],
   "source": []
  }
 ],
 "metadata": {
  "kernelspec": {
   "display_name": "Python 3 (ipykernel)",
   "language": "python",
   "name": "python3"
  },
  "language_info": {
   "codemirror_mode": {
    "name": "ipython",
    "version": 3
   },
   "file_extension": ".py",
   "mimetype": "text/x-python",
   "name": "python",
   "nbconvert_exporter": "python",
   "pygments_lexer": "ipython3",
   "version": "3.9.5"
  }
 },
 "nbformat": 4,
 "nbformat_minor": 5
}
