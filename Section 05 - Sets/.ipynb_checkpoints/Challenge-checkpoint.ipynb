{
 "cells": [
  {
   "cell_type": "markdown",
   "id": "4d4dab60-5b38-49a7-a026-595b6efc42f4",
   "metadata": {},
   "source": [
    "# Sets Challenge"
   ]
  },
  {
   "cell_type": "markdown",
   "id": "5910c2dd-b193-4ce5-b01a-52cf720766d6",
   "metadata": {},
   "source": [
    "## Basic Set Theory\n",
    "> - Elements of sets must be hashable but sets are not hashable\n",
    "> - `Cardinality`: of a set is the number of elements in the set\n",
    "> - `Disjoint sets`: are sets that have no intersecting elements aka have 0 cardinality\n",
    "> - `Subsets`: A set s1 is a subset of set s2 if all elements in s1 are in s2\n",
    "> - `Proper subset`: A set s1 is a proper subset of s2 `IF` s1 is a subset of s2 `AND` s1 is not equal to s2\n",
    "> - `Superset`: A set s1 is a superset of s2 if s2 is a subset of s1\n",
    "> - `Proper superset`: A set s1 is a proper superset of s2 `IF` s2 is a subset of s1 `AND` s1 is not equalt to s2"
   ]
  },
  {
   "cell_type": "markdown",
   "id": "6a4dfd9c-416e-4240-b076-c87309918d3e",
   "metadata": {},
   "source": [
    "## Python sets\n",
    "> - `Cardinality` : len(s)\n",
    "> - `Membership testing` : in / not in\n",
    "> - `Unions` : s1 | s2 / s1.union(s2)\n",
    "> - `Intersections` : s1 & s2 / s1.intersection(s2)\n",
    "> - `Difference` : s1 - s2 / s1.difference(s2)\n",
    "> - `Symetric Difference` : s1 ^ s2 / s1.symetric_difference(s2)\n",
    "> - `Subsets` : s1 <= s2 / s1.issubset(s2)\n",
    "> - `Propper Subsets` : s1 < s2\n",
    "> - `Superset` : s1 >= s2, s1.issuperset(s2)\n",
    "> - `Proper Superset` : s1 > s2\n",
    "> - `Disjointness` : s1.isdisjoint(s2)\n",
    "\n",
    ">#### Frozen Sets:\n",
    "> - The imutable equivalent of sets `frozenset`\n",
    "> - Membership lookup much faster than any other data types since it's a table hash lookp. eg: <br> \n",
    "> `if a in {10, 20, 30}:`"
   ]
  },
  {
   "cell_type": "markdown",
   "id": "2530ff82-6f2e-4e56-a76b-7ebc75618974",
   "metadata": {},
   "source": [
    "## Create Sets"
   ]
  },
  {
   "cell_type": "markdown",
   "id": "9685ed21-5605-447a-98a2-ded933b2b0e1",
   "metadata": {},
   "source": [
    "### Challenge 1\n",
    "\n",
    "> Create a set using literal notation\n",
    "\n",
    "Create a set `s` using elements `(1,2,3), 'a', 100`. <br>\n",
    "Can you create an empty set using literal notation?"
   ]
  },
  {
   "cell_type": "code",
   "execution_count": null,
   "id": "d4450eac-8df2-4cc0-94ee-2ae43816904c",
   "metadata": {
    "tags": []
   },
   "outputs": [],
   "source": [
    "# Example\n",
    "\n",
    "# Note, empty sets do not have a literal notation\n",
    "\n",
    "s = {(1,2,3), 'a', 100}\n",
    "s"
   ]
  },
  {
   "cell_type": "code",
   "execution_count": 2,
   "id": "836b8762-bbf0-4c20-8276-6c2927928f7e",
   "metadata": {},
   "outputs": [],
   "source": [
    "# done"
   ]
  },
  {
   "cell_type": "markdown",
   "id": "0f35983d-6d50-4ffc-acfb-532fd2b192d4",
   "metadata": {},
   "source": [
    "### Challenge 2\n",
    "\n",
    "> Create a set using a constructor with an iterable\n",
    "\n",
    "Create a set `s` using a constructor with elements `(1,2,3), 'a', 100`."
   ]
  },
  {
   "cell_type": "code",
   "execution_count": null,
   "id": "26d953b1-e9c9-4a9b-9b44-d9a9959d597d",
   "metadata": {
    "tags": []
   },
   "outputs": [],
   "source": [
    "# Example\n",
    "\n",
    "s = set([(1,2,3), 'a', 100])\n",
    "s"
   ]
  },
  {
   "cell_type": "code",
   "execution_count": 4,
   "id": "1f538d0d-9b8a-4c82-956c-6181546d594c",
   "metadata": {},
   "outputs": [],
   "source": [
    "# done"
   ]
  },
  {
   "cell_type": "markdown",
   "id": "45039e72-d0b3-4ff4-aec2-5e5aa1541b5f",
   "metadata": {},
   "source": [
    "### Challenge 3\n",
    "\n",
    "> Create an empty set.\n",
    "\n",
    "Create an empty set `s`. <BR>\n",
    "Can we create an empty set using literal?"
   ]
  },
  {
   "cell_type": "code",
   "execution_count": null,
   "id": "2c4da813-6ba9-4ac6-b5ea-aaeb677f1aba",
   "metadata": {
    "tags": []
   },
   "outputs": [],
   "source": [
    "# Example\n",
    "s = set()\n",
    "s"
   ]
  },
  {
   "cell_type": "code",
   "execution_count": 5,
   "id": "30bb5e4a-f6e7-4d10-b030-3ccdce9e9d09",
   "metadata": {},
   "outputs": [],
   "source": [
    "# done"
   ]
  },
  {
   "cell_type": "markdown",
   "id": "6caa94a7-2f8a-40b0-9059-bf9f73127956",
   "metadata": {},
   "source": [
    "### Challenge 4\n",
    "\n",
    "> Use `set` to compute % of distinct letters.\n",
    "\n",
    "Create a function `scorer` that takes as input a string and calculates the percentage of unique letters in the string from total letters in alphabet.\n",
    "\n",
    "Make sure that only `lower` and `alpha` characters are counted, by using set operation."
   ]
  },
  {
   "cell_type": "code",
   "execution_count": null,
   "id": "fdb71f1d-1b07-48bb-8bec-8448334b3707",
   "metadata": {
    "jupyter": {
     "source_hidden": true
    },
    "tags": []
   },
   "outputs": [],
   "source": [
    "# Example\n",
    "from string import ascii_lowercase\n",
    "\n",
    "def scorer(s):\n",
    "    alphabet = set(ascii_lowercase)\n",
    "    s = set(s.lower())\n",
    "    # This intersection ensures only alphabet\n",
    "    # characters are considered\n",
    "    clean_s = s & alphabet\n",
    "    return len(clean_s) / len(alphabet)\n",
    "\n",
    "scorer('amazing')"
   ]
  },
  {
   "cell_type": "code",
   "execution_count": 17,
   "id": "f63458ce-7848-4286-bb63-fcd21e387ea1",
   "metadata": {},
   "outputs": [],
   "source": [
    "# done, practice again"
   ]
  },
  {
   "cell_type": "markdown",
   "id": "9e8ce301-f089-45d5-96f5-2e4b6515ccf1",
   "metadata": {},
   "source": [
    "---"
   ]
  },
  {
   "cell_type": "markdown",
   "id": "fe7a719d-61df-4979-aaf1-ed808192d3b0",
   "metadata": {},
   "source": [
    "## Common Operations with Sets"
   ]
  },
  {
   "cell_type": "markdown",
   "id": "6f435df6-d78b-4e09-90f0-6a94859c73d2",
   "metadata": {},
   "source": [
    "### Challenge 1\n",
    "\n",
    "> Adding element to a set.\n",
    "\n",
    "Create an empty set called `s` and add characters `a` and `z` to the set."
   ]
  },
  {
   "cell_type": "code",
   "execution_count": null,
   "id": "f7f9c903-f52a-46f5-932a-3da463ab3b44",
   "metadata": {
    "jupyter": {
     "source_hidden": true
    },
    "tags": []
   },
   "outputs": [],
   "source": [
    "# Example\n",
    "\n",
    "s = set()\n",
    "\n",
    "s.add('a')\n",
    "s.add('z')\n",
    "print(s)"
   ]
  },
  {
   "cell_type": "code",
   "execution_count": 24,
   "id": "2290c710-c63a-4c89-bf4a-e4db6c138518",
   "metadata": {},
   "outputs": [
    {
     "data": {
      "text/plain": [
       "{'a', 'z'}"
      ]
     },
     "execution_count": 24,
     "metadata": {},
     "output_type": "execute_result"
    }
   ],
   "source": [
    "# done"
   ]
  },
  {
   "cell_type": "markdown",
   "id": "deb7380e-aed9-4ee1-8eaa-8ae3e74faf0d",
   "metadata": {},
   "source": [
    "### Challenge 2\n",
    "\n",
    "> Remove an element of a set allowing for exceptions to be raised.\n",
    "\n",
    "With set `s={'a','b','c'}` remove element `a` and element `z`."
   ]
  },
  {
   "cell_type": "code",
   "execution_count": null,
   "id": "ea1b3b22-ce20-4244-b475-c0e78aad41c5",
   "metadata": {
    "jupyter": {
     "source_hidden": true
    },
    "tags": []
   },
   "outputs": [],
   "source": [
    "# Example\n",
    "\n",
    "s={'a','b','c'}\n",
    "s.remove('a')\n",
    "print(s)\n",
    "s.remove('z')"
   ]
  },
  {
   "cell_type": "code",
   "execution_count": 29,
   "id": "d20ff3a5-bf59-42ca-bce1-0498e37eafd5",
   "metadata": {},
   "outputs": [],
   "source": [
    "# done"
   ]
  },
  {
   "cell_type": "markdown",
   "id": "0eedc03b-d5d6-4439-a4db-d470c7d9b2e7",
   "metadata": {},
   "source": [
    "### Challenge 3\n",
    "\n",
    "> Remove an element of a set **without** allowing for exceptions to be raised.\n",
    "\n",
    "With set `s={'a','b','c'}` remove element `a` and element `z`."
   ]
  },
  {
   "cell_type": "code",
   "execution_count": null,
   "id": "920c9722-5446-4388-833d-2a2be5a5eaf0",
   "metadata": {
    "jupyter": {
     "source_hidden": true
    },
    "tags": []
   },
   "outputs": [],
   "source": [
    "# Example\n",
    "s={'a','b','c'}\n",
    "s.discard('a')\n",
    "print(s)\n",
    "s.discard('z')\n",
    "print(s)"
   ]
  },
  {
   "cell_type": "code",
   "execution_count": 33,
   "id": "59bbc44c-a12a-404a-8340-f9b8188a9010",
   "metadata": {},
   "outputs": [],
   "source": [
    "# done, practice again"
   ]
  },
  {
   "cell_type": "markdown",
   "id": "7d260065-63b8-4752-9817-4c3b2733cde3",
   "metadata": {},
   "source": [
    "### Challenge 4\n",
    "\n",
    "> Remove an arbitrary element from the set.\n",
    "\n",
    "With set `s={'a','b','c'}` remove an arbitrary element."
   ]
  },
  {
   "cell_type": "code",
   "execution_count": null,
   "id": "ca7848d0-8c74-4ae1-93e2-c88c3076a10e",
   "metadata": {
    "jupyter": {
     "source_hidden": true
    },
    "tags": []
   },
   "outputs": [],
   "source": [
    "# Example\n",
    "\n",
    "s={'a','b','c'}\n",
    "s.pop()\n",
    "print(s)"
   ]
  },
  {
   "cell_type": "code",
   "execution_count": 35,
   "id": "2be20fe6-5a18-47c2-a2b2-47989ee35256",
   "metadata": {},
   "outputs": [],
   "source": [
    "# done"
   ]
  },
  {
   "cell_type": "markdown",
   "id": "b95f6187-ea74-4e70-8c45-bbb64f59644c",
   "metadata": {},
   "source": [
    "---"
   ]
  },
  {
   "cell_type": "markdown",
   "id": "ef93a0e3-ef1f-401a-8f25-dc36c064715b",
   "metadata": {},
   "source": [
    "## Set Operations"
   ]
  },
  {
   "cell_type": "markdown",
   "id": "846f802f-3f14-4195-9a77-30946783fc1b",
   "metadata": {},
   "source": [
    "### Challenge 1\n",
    "\n",
    "> Find intersection of elements using explicit syntax.\n",
    "\n",
    "Using sets: \n",
    "```\n",
    "s1 = {1,2,3} \n",
    "s2 = {2,3,4}\n",
    "s3 = {3,4,5}\n",
    "```\n",
    "Find the intersection using explicit syntax."
   ]
  },
  {
   "cell_type": "code",
   "execution_count": 38,
   "id": "e00c9413-86a6-45ba-88ad-d3b01d11f531",
   "metadata": {
    "tags": []
   },
   "outputs": [
    {
     "data": {
      "text/plain": [
       "{3}"
      ]
     },
     "execution_count": 38,
     "metadata": {},
     "output_type": "execute_result"
    }
   ],
   "source": [
    "# Example\n",
    "s1 = {1,2,3}\n",
    "s2 = {2,3,4}\n",
    "s3 = {3,4,5}\n",
    "\n",
    "s1.intersection(s2,s3)"
   ]
  },
  {
   "cell_type": "code",
   "execution_count": 39,
   "id": "36111be3-94eb-4c7a-adf2-a4c677fd4c77",
   "metadata": {},
   "outputs": [],
   "source": [
    "# done"
   ]
  },
  {
   "cell_type": "markdown",
   "id": "902cd4a6-6fba-4b31-b89e-3942e1b9151a",
   "metadata": {},
   "source": [
    "### Challenge 2\n",
    "\n",
    "> Find intersection of elements using operator syntax.\n",
    "\n",
    "Using sets \n",
    "```\n",
    "s1 = {1,2,3}\n",
    "s2 = {2,3,4}\n",
    "s3 = {3,4,5}\n",
    "```\n",
    "Find the elements intersection using operator syntax."
   ]
  },
  {
   "cell_type": "code",
   "execution_count": null,
   "id": "cd090cca-59dc-4ec4-a9fe-3d5f5e00b9d8",
   "metadata": {
    "tags": []
   },
   "outputs": [],
   "source": [
    "# Example\n",
    "s1 = {1,2,3}\n",
    "s2 = {2,3,4}\n",
    "s3 = {3,4,5}\n",
    "\n",
    "s1 & s2 & s3"
   ]
  },
  {
   "cell_type": "code",
   "execution_count": 41,
   "id": "5f36e3da-12fc-410f-8ccb-e0ce690ab791",
   "metadata": {},
   "outputs": [],
   "source": [
    "# done"
   ]
  },
  {
   "cell_type": "markdown",
   "id": "a4ffcecd-39bb-4c50-ba6e-12ed4950bd80",
   "metadata": {},
   "source": [
    "### Challenge 3\n",
    "\n",
    "> Find union of elements using explicit syntax\n",
    "\n",
    "With sets:\n",
    "```\n",
    "s1 = {1,2,3}\n",
    "s2 = {2,3,4}\n",
    "``` \n",
    "Find the union of the elements using explicit syntax."
   ]
  },
  {
   "cell_type": "code",
   "execution_count": null,
   "id": "61b33161-b237-406d-952c-1d67ba7f878b",
   "metadata": {
    "tags": []
   },
   "outputs": [],
   "source": [
    "# Example\n",
    "\n",
    "s1 = {1,2,3}\n",
    "s2 = {2,3,4}\n",
    "\n",
    "s1.union(s2)"
   ]
  },
  {
   "cell_type": "code",
   "execution_count": 43,
   "id": "019b344a-01ed-40e9-ad47-faf28ebc93b0",
   "metadata": {},
   "outputs": [],
   "source": [
    "# done"
   ]
  },
  {
   "cell_type": "markdown",
   "id": "67b1c81b-1d81-4baf-8d2e-f557fa2ce5ba",
   "metadata": {},
   "source": [
    "### Challenge 4\n",
    "\n",
    "> Find union of elements using operator syntax\n",
    "\n",
    "With sets:\n",
    "```\n",
    "s1 = {1,2,3}\n",
    "s2 = {2,3,4}\n",
    "``` \n",
    "Find the union of the elements using operator syntax."
   ]
  },
  {
   "cell_type": "code",
   "execution_count": null,
   "id": "8b941d70-d0a7-4212-a487-a16cbbfd3096",
   "metadata": {
    "jupyter": {
     "source_hidden": true
    },
    "tags": []
   },
   "outputs": [],
   "source": [
    "# Example\n",
    "s1 = {1,2,3}\n",
    "s2 = {2,3,4}\n",
    "\n",
    "s1 | s2"
   ]
  },
  {
   "cell_type": "code",
   "execution_count": null,
   "id": "1d30525f-765a-4ba0-8af3-232e6ec2ba7f",
   "metadata": {},
   "outputs": [],
   "source": [
    "# done"
   ]
  },
  {
   "cell_type": "markdown",
   "id": "5cff3d4f-e4e1-4b44-bcc9-6b5cf9cac247",
   "metadata": {},
   "source": [
    "### Challenge 5\n",
    "\n",
    "> Find if 2 sets are disjoint.\n",
    "\n",
    "With sets:\n",
    "```\n",
    "s1 = {1,2,3}\n",
    "s2 = {4,5,6}\n",
    "```\n",
    "Check if the sets are disjoint using explicit syntax and operators."
   ]
  },
  {
   "cell_type": "code",
   "execution_count": null,
   "id": "249129f3-1666-4d4f-ba5e-d63edac0377d",
   "metadata": {
    "jupyter": {
     "source_hidden": true
    },
    "tags": []
   },
   "outputs": [],
   "source": [
    "# Example\n",
    "\n",
    "s1 = {1,2,3}\n",
    "s2 = {4,5,6}\n",
    "\n",
    "print(s1.isdisjoint(s2))\n",
    "print( len(s1 & s2) == 0 )"
   ]
  },
  {
   "cell_type": "code",
   "execution_count": 46,
   "id": "3c07b9e9-c0f7-48e8-9530-9d6d1003e8a2",
   "metadata": {},
   "outputs": [],
   "source": [
    "# done"
   ]
  },
  {
   "cell_type": "markdown",
   "id": "a74006d1-4be5-4b54-970d-fd061ddf46e6",
   "metadata": {},
   "source": [
    "### Challenge 6\n",
    "\n",
    "> Set difference\n",
    "\n",
    "With sets:\n",
    "```\n",
    "s1 = {1,2,3}\n",
    "s2 = {3,4,5}\n",
    "```\n",
    "Check the difference between `s2` and `s1` using explicit syntax and operators."
   ]
  },
  {
   "cell_type": "code",
   "execution_count": null,
   "id": "c528d304-72e9-49b0-8520-29fbf4864825",
   "metadata": {
    "tags": []
   },
   "outputs": [],
   "source": [
    "# Example\n",
    "\n",
    "s1 = {1,2,3}\n",
    "s2 = {3,4,5}\n",
    "\n",
    "print(s2.difference(s1))\n",
    "print(s2 - s1)"
   ]
  },
  {
   "cell_type": "code",
   "execution_count": 48,
   "id": "907da744-707f-451d-8013-143a809233dd",
   "metadata": {},
   "outputs": [],
   "source": [
    "# done"
   ]
  },
  {
   "cell_type": "markdown",
   "id": "3e232178-3b0b-486b-ae4f-03ea4d417a6e",
   "metadata": {},
   "source": [
    "### Challenge 7\n",
    "\n",
    "> Set simetric difference\n",
    "\n",
    "With sets: \n",
    "```\n",
    "s1 = {1,2,3,4,5}\n",
    "s2 = {4,5,6,7,8}\n",
    "```\n",
    "Check the simetric difference using explicit syntax and operators."
   ]
  },
  {
   "cell_type": "code",
   "execution_count": null,
   "id": "8e23f18a-d4da-4350-b9dd-2ce3f6f8d20a",
   "metadata": {
    "jupyter": {
     "source_hidden": true
    },
    "tags": []
   },
   "outputs": [],
   "source": [
    "# Example\n",
    "\n",
    "s1 = {1,2,3,4,5} \n",
    "s2 = {4,5,6,7,8}\n",
    "\n",
    "print(s1.symmetric_difference(s2))\n",
    "print(s1 ^ s2)"
   ]
  },
  {
   "cell_type": "code",
   "execution_count": 5,
   "id": "ad1afd71-6686-40ae-a3f4-47b5c6837c5a",
   "metadata": {},
   "outputs": [],
   "source": [
    "# done"
   ]
  },
  {
   "cell_type": "markdown",
   "id": "b3cc5261-2cb3-49bf-a631-8d37f2c77cd0",
   "metadata": {},
   "source": [
    "### Challenge 8\n",
    "\n",
    "> Subsets and proper subsets\n",
    "\n",
    "With sets:\n",
    "```\n",
    "s1 = {1,2,3}\n",
    "s2 = {1,2,3}\n",
    "```\n",
    "Test if `s1` is subset of `s2`. <br>\n",
    "Test if `s1` is propper subset of `s2` <br>\n",
    "Use both explicit syntax and operators where available."
   ]
  },
  {
   "cell_type": "code",
   "execution_count": null,
   "id": "b9cd1954-f84c-4f38-aca2-9f0b09a71401",
   "metadata": {
    "jupyter": {
     "source_hidden": true
    },
    "tags": []
   },
   "outputs": [],
   "source": [
    "# Example\n",
    "s1 = {1,2,3}\n",
    "s2 = {1,2,3}\n",
    "\n",
    "# subset test\n",
    "print(f'is {s1} subset of {s2}:', s1.issubset(s2))\n",
    "print(f'is {s1} subset of {s2}:', s1 <= s2)\n",
    "\n",
    "# proper subset\n",
    "# Note: proper subset does not have explicit syntax\n",
    "print(f'is {s1} proper subset of {s2}:', s1 < s2)"
   ]
  },
  {
   "cell_type": "code",
   "execution_count": 10,
   "id": "1ecc6048-34bb-4ba6-ad75-7cc2bcfe6d61",
   "metadata": {},
   "outputs": [],
   "source": [
    "# done"
   ]
  },
  {
   "cell_type": "markdown",
   "id": "562e9392-0bac-4b4f-8b60-73f4b710e1b0",
   "metadata": {},
   "source": [
    "### Challenge 9\n",
    "\n",
    "> Supersets and proper supersets\n",
    "\n",
    "With sets:\n",
    "```\n",
    "s1 = {1,2,3}\n",
    "s2 = {1,2,3,4}\n",
    "```\n",
    "Test if `s2` is superset of `s1`. <br>\n",
    "Test if `s2` is proper superset of `s1`. <br>\n",
    "Use both explicit syntax and operators where available."
   ]
  },
  {
   "cell_type": "code",
   "execution_count": null,
   "id": "e8d1d072-6a01-4ace-a0fc-b20993687e78",
   "metadata": {
    "jupyter": {
     "source_hidden": true
    },
    "tags": []
   },
   "outputs": [],
   "source": [
    "# Example\n",
    "s1 = {1,2,3}\n",
    "s2 = {1,2,3,4}\n",
    "\n",
    "print(f'is {s2} superset of {s1}:', s2.issuperset(s1))\n",
    "print(f'is {s2} superset of {s1}', s2 >= s1)\n",
    "print(f'is {s2} propper superset of {s1}', s2 > s1)"
   ]
  },
  {
   "cell_type": "code",
   "execution_count": 14,
   "id": "8bdccd56-03cb-44c9-97ed-f45ecee15fa8",
   "metadata": {},
   "outputs": [],
   "source": [
    "# done"
   ]
  },
  {
   "cell_type": "markdown",
   "id": "22b7751e-5cf5-471b-97e3-1212232d071f",
   "metadata": {},
   "source": [
    "--- "
   ]
  },
  {
   "cell_type": "markdown",
   "id": "1eadd137-cecd-43bb-be9c-3cb61a299aef",
   "metadata": {},
   "source": [
    "## Update (inplace) Operations\n",
    "> Sets can be mutated using operators:\n",
    "> - Union: `s1 |= s2` or `s1.update(s2)`\n",
    "> - Intersection: `s1 &= s2` or `s1.intersection_update(s2)`\n",
    "> - Difference: `s1 -= s2` or `s1.difference_update(s2)`\n",
    "> - Simetric difference: `s1 ^= s2` or `s1.symmetric_difference_update(s2)`"
   ]
  },
  {
   "cell_type": "markdown",
   "id": "b64ab0ec-5338-4b87-8a5b-bac5c24995f7",
   "metadata": {},
   "source": [
    "### Challenge 1\n",
    "\n",
    "> Union update\n",
    "\n",
    "With sets:\n",
    "```\n",
    "s1 = {1,2,3}\n",
    "s2 = {2,3,4}\n",
    "```\n",
    "Union update `s1` with `s2` using both explicit syntax and operator."
   ]
  },
  {
   "cell_type": "code",
   "execution_count": 18,
   "id": "72010b87-e569-47d7-8847-889cc1e57a69",
   "metadata": {
    "tags": []
   },
   "outputs": [
    {
     "name": "stdout",
     "output_type": "stream",
     "text": [
      "{1, 2, 3, 4}\n",
      "{1, 2, 3, 4}\n"
     ]
    }
   ],
   "source": [
    "# Example\n",
    "\n",
    "s1 = {1,2,3}\n",
    "s2 = {2,3,4}\n",
    "\n",
    "s1.update(s2)\n",
    "print(s1)\n",
    "\n",
    "s1 |= s2\n",
    "print(s1)"
   ]
  },
  {
   "cell_type": "code",
   "execution_count": 19,
   "id": "c038d0a1-a575-43e5-8637-cb24dc054944",
   "metadata": {},
   "outputs": [],
   "source": [
    "# done"
   ]
  },
  {
   "cell_type": "markdown",
   "id": "7621fd15-754d-4787-989d-60534141fc49",
   "metadata": {},
   "source": [
    "### Challenge 2\n",
    "\n",
    "> Intersect Update\n",
    "\n",
    "With sets:\n",
    "```\n",
    "s1 = {1,2,3}\n",
    "s2 = {2,3,4}\n",
    "```\n",
    "Intersect update `s1` with `s2` using both explicit syntax and operator."
   ]
  },
  {
   "cell_type": "code",
   "execution_count": null,
   "id": "8b05aec7-e2df-4fb0-af51-e8571eb44b34",
   "metadata": {
    "jupyter": {
     "source_hidden": true
    },
    "tags": []
   },
   "outputs": [],
   "source": [
    "# Example\n",
    "\n",
    "s1 = {1,2,3}\n",
    "s2 = {2,3,4}\n",
    "\n",
    "s1 &= s2\n",
    "print(s1)\n",
    "\n",
    "s1.intersection_update(s2)\n",
    "print(s1)"
   ]
  },
  {
   "cell_type": "code",
   "execution_count": 23,
   "id": "4da64615-6088-4442-be0f-62a278ec739f",
   "metadata": {},
   "outputs": [],
   "source": [
    "# done"
   ]
  },
  {
   "cell_type": "markdown",
   "id": "3c45c186-2b41-47d9-85a1-5fc3f9af5478",
   "metadata": {},
   "source": [
    "### Challenge 3\n",
    "\n",
    "> Difference update\n",
    "\n",
    "With sets:\n",
    "```\n",
    "s1 = {1,2,3}\n",
    "s2 = {2,3,4}\n",
    "```\n",
    "Difference update `s1` with `s2` using both explicit syntax and operator."
   ]
  },
  {
   "cell_type": "code",
   "execution_count": null,
   "id": "c9d5bc89-a362-4572-9b4b-b35a5ff2a7ab",
   "metadata": {
    "jupyter": {
     "source_hidden": true
    },
    "tags": []
   },
   "outputs": [],
   "source": [
    "# Example\n",
    "\n",
    "s1 = {1,2,3}\n",
    "s2 = {2,3,4}\n",
    "\n",
    "s1 -= s2\n",
    "print(s1)\n",
    "\n",
    "s1.difference_update(s2)\n",
    "print(s1)"
   ]
  },
  {
   "cell_type": "code",
   "execution_count": 26,
   "id": "9fceadca-e950-40f3-b3e0-b98038684c87",
   "metadata": {},
   "outputs": [],
   "source": [
    "# done"
   ]
  },
  {
   "cell_type": "markdown",
   "id": "55bc2fd5-1261-4485-b06c-f0e38ab0c886",
   "metadata": {},
   "source": [
    "### Challenge 4\n",
    "\n",
    "> Symmetric difference update\n",
    "\n",
    "With sets:\n",
    "```\n",
    "s1 = {1,2,3}\n",
    "s2 = {2,3,4}\n",
    "```\n",
    "Test symetric difference update `s1` with `s2` using both explicit syntax and operator."
   ]
  },
  {
   "cell_type": "code",
   "execution_count": null,
   "id": "45ad1e52-dfcf-445b-83e8-00957a8aded0",
   "metadata": {
    "jupyter": {
     "source_hidden": true
    },
    "tags": []
   },
   "outputs": [],
   "source": [
    "# Example\n",
    "\n",
    "s1 = {1,2,3}\n",
    "s2 = {2,3,4}\n",
    "\n",
    "s1 ^= s2\n",
    "print(s1)\n",
    "\n",
    "s1.symmetric_difference_update(s2)\n",
    "print(s1)"
   ]
  },
  {
   "cell_type": "code",
   "execution_count": 29,
   "id": "a53bab08-d7bc-49f4-aab8-07af769b52cc",
   "metadata": {},
   "outputs": [],
   "source": [
    "#  done"
   ]
  },
  {
   "cell_type": "markdown",
   "id": "c8b61448-953f-4547-baa6-85484649c245",
   "metadata": {},
   "source": [
    "---"
   ]
  },
  {
   "cell_type": "markdown",
   "id": "a2f5165c-bf9a-475a-af2e-dba6eb5b7685",
   "metadata": {
    "tags": []
   },
   "source": [
    "## Frozen Sets\n",
    "> Have the same behavior as sets except, they can't be mutated. <br>\n",
    "> Frozen sets are hashable. <br>\n",
    "> Because frozen sets are imutable identical frozen sets have the same memory id. `Eg: frozenset({1,2,3}) is frozenset({1,2,3) == True`"
   ]
  },
  {
   "cell_type": "markdown",
   "id": "4dc990b1-152d-4784-9ce0-799f56f3dc99",
   "metadata": {},
   "source": [
    "### Challenge 1\n",
    "\n",
    "> Create frozen set\n",
    "\n",
    "With set `s1 = {'a','b', 'c'}` create a frozen set `s2`"
   ]
  },
  {
   "cell_type": "code",
   "execution_count": null,
   "id": "2bb44a77-022a-467f-a0cb-330f46719aba",
   "metadata": {
    "jupyter": {
     "source_hidden": true
    },
    "tags": []
   },
   "outputs": [],
   "source": [
    "# Example\n",
    "\n",
    "s1 = {'a','b', 'c'}\n",
    "s2 = frozenset(s1)\n",
    "print(s2, type(s2))"
   ]
  },
  {
   "cell_type": "code",
   "execution_count": 36,
   "id": "b40ce270-9ebb-4356-98ec-ec4d9d5df89f",
   "metadata": {},
   "outputs": [],
   "source": [
    "# done"
   ]
  },
  {
   "cell_type": "markdown",
   "id": "f49bd92f-a284-4f9e-8abe-7e2a926bacc7",
   "metadata": {},
   "source": [
    "### Challenge 2\n",
    "\n",
    "> Frozenset shallow copy\n",
    "\n",
    "Is there a reason to create a shallow copy of a frozen set?"
   ]
  },
  {
   "cell_type": "code",
   "execution_count": null,
   "id": "8787bae6-1be7-4c8f-8ff3-6f9f2a6699ef",
   "metadata": {
    "jupyter": {
     "source_hidden": true
    },
    "tags": []
   },
   "outputs": [],
   "source": [
    "# Example\n",
    "\n",
    "# There is no reason to createa a copy of a frozen set because it is \n",
    "# an imutable object hence two identical frozen sets will share the \n",
    "# same memory id\n",
    "\n",
    "s1 = frozenset((1,2,3))\n",
    "s2 = frozenset(s1)\n",
    "s3 = s2.copy()\n",
    "\n",
    "print(s1 is s2, s1 is s3)\n",
    "print(id(s1), id(s2), id(s3))"
   ]
  },
  {
   "cell_type": "code",
   "execution_count": 37,
   "id": "bcb9301b-b076-4520-952c-89612b7684d2",
   "metadata": {},
   "outputs": [],
   "source": [
    "# done"
   ]
  },
  {
   "cell_type": "markdown",
   "id": "682bcb45-a463-444a-9ccb-d6ff630b11c9",
   "metadata": {},
   "source": [
    "### Challenge 3\n",
    "\n",
    "> Frozenset deep copy\n",
    "\n",
    "What happens when creating a deep copy of a frozen set? <br>\n",
    "Please demonstrate"
   ]
  },
  {
   "cell_type": "code",
   "execution_count": 42,
   "id": "8897d086-a647-4e70-929a-a50f48660558",
   "metadata": {
    "jupyter": {
     "source_hidden": true
    },
    "tags": []
   },
   "outputs": [
    {
     "name": "stdout",
     "output_type": "stream",
     "text": [
      "139868039452928 139868038668064\n"
     ]
    }
   ],
   "source": [
    "# Example\n",
    "\n",
    "# When creating a deep copy of a frozen set we get a new object\n",
    "\n",
    "from copy import deepcopy\n",
    "\n",
    "s1 = frozenset([1,2,3])\n",
    "s2 = deepcopy(s1)\n",
    "\n",
    "print(id(s1), id(s2))"
   ]
  },
  {
   "cell_type": "code",
   "execution_count": 43,
   "id": "3f5d722f-b74d-4eb7-8ef3-8f04a2b24f90",
   "metadata": {},
   "outputs": [],
   "source": [
    "# done"
   ]
  },
  {
   "cell_type": "markdown",
   "id": "093fbf73-204d-4e8d-9259-371afee80987",
   "metadata": {},
   "source": [
    "### Challenge 4\n",
    "\n",
    "> Frozenset union type\n",
    "\n",
    "Using sets:\n",
    "```\n",
    "s1 = frozenset('ab') \n",
    "s2 = set(1,2)\n",
    "``` \n",
    "\n",
    "Create two unions one between `s3 = s1 and s2` and another between `s4 = s2 and s1`. <br>\n",
    "What will be the types of `s3 and s4` ?"
   ]
  },
  {
   "cell_type": "code",
   "execution_count": 45,
   "id": "f9e75093-b5f8-4fff-977e-918402c5d4a0",
   "metadata": {
    "jupyter": {
     "source_hidden": true
    },
    "tags": []
   },
   "outputs": [
    {
     "name": "stdout",
     "output_type": "stream",
     "text": [
      "s3 frozenset({'b', 1, 2, 'a'}) type is: <class 'frozenset'>\n",
      "s4 {'b', 1, 2, 'a'} type is: <class 'set'>\n"
     ]
    }
   ],
   "source": [
    "# Example\n",
    "\n",
    "# When doing a union between a frozenset and a set the \n",
    "# result TYPE will be (depndent) aka the same as the first \n",
    "# element in the union\n",
    "\n",
    "s1 = frozenset('ab') \n",
    "s2 = set([1,2])\n",
    "\n",
    "s3 = s1 | s2\n",
    "s4 = s2 | s1\n",
    "\n",
    "print(f's3 {s3} type is:',type(s3))\n",
    "print(f's4 {s4} type is:',type(s4))"
   ]
  },
  {
   "cell_type": "code",
   "execution_count": 44,
   "id": "d21141a7-097d-4561-94a3-d0f3746c1904",
   "metadata": {},
   "outputs": [],
   "source": [
    "# done"
   ]
  },
  {
   "cell_type": "markdown",
   "id": "923b730e-60dd-46fa-aca2-44f4e0058739",
   "metadata": {},
   "source": [
    "### Challenge 5\n",
    "\n",
    "> Use frozenset as dictionary key. <br>\n",
    "> _Sets are not hashable but frozensets are which means we can use them as keys in dictionaries. Previously we created a class Person that had to implement two rules in order to be used as a dictionary key. We can achive roughly the same outcome using frozen sets with the caveat that equality won't be implemented between instances_.\n",
    "\n",
    "Create a class `Person` that can be used as key in a dictionary. The class must contain:\n",
    "- Takes as imput two private variables: `name` and `age`\n",
    "- Implement property getter for `name` and `age`\n",
    "- Has a representation\n",
    "- Use frozenset as `key` for the class. This will be a method of the class\n",
    "\n",
    "with instances:\n",
    "```\n",
    "p1 = Person('John', 78)\n",
    "p2 = Person('Eric', 75)\n",
    "```\n",
    "Create a dictionary `d` with `p1` and `p2` keys and `p1 and p2` instances as values. <br>\n",
    "Search dictionary value `p1` using a new frozenset with the same attributes as instance `p1`."
   ]
  },
  {
   "cell_type": "code",
   "execution_count": null,
   "id": "5e81c74a-c9cf-47bd-acdd-6f1f48f31e3c",
   "metadata": {
    "jupyter": {
     "source_hidden": true
    },
    "tags": []
   },
   "outputs": [],
   "source": [
    "# Example\n",
    "\n",
    "class Person:\n",
    "    def __init__(self, name, age):\n",
    "        self._name = name\n",
    "        self._age = age\n",
    "        \n",
    "    def __repr__(self):\n",
    "        return f'Person(name={self.name}, age={self.age})'\n",
    "        \n",
    "    @property\n",
    "    def name(self):\n",
    "        return self._name\n",
    "    \n",
    "    @property\n",
    "    def age(self):\n",
    "        return self._age\n",
    "    \n",
    "    def key(self):\n",
    "        return frozenset({self.name, self.age})\n",
    "\n",
    "    \n",
    "p1 = Person('John', 78)\n",
    "p2 = Person('Eric', 75)\n",
    "            \n",
    "d = {p1.key():p1, p2.key():p2}\n",
    "d[frozenset(['John', 78])]"
   ]
  },
  {
   "cell_type": "code",
   "execution_count": 7,
   "id": "968b2475-8e98-499d-8c5a-86b503576d65",
   "metadata": {},
   "outputs": [],
   "source": [
    "# done"
   ]
  },
  {
   "cell_type": "markdown",
   "id": "ded2610b-a727-4c6f-ad8b-f5f71f4681e1",
   "metadata": {},
   "source": [
    "--- "
   ]
  },
  {
   "cell_type": "markdown",
   "id": "f5bae636-0742-486c-96a1-20bcba3c642a",
   "metadata": {},
   "source": [
    "## Dictionary Views\n",
    "> - View keys: `my_dict.keys()`\n",
    "> - View values: `my_dict.values()`\n",
    "> - View items: `my_dict.items()`<br>"
   ]
  },
  {
   "cell_type": "markdown",
   "id": "d5f016a9-ffd1-4582-a94a-e7a53f54ce73",
   "metadata": {},
   "source": [
    "### Challenge 1\n",
    "\n",
    "> Views are dynamic\n",
    "\n",
    "Create a dictionary with letters `abcd` as keys and values `0 to 3` called `dt`. \n",
    "Iterate over the items of the dictionary and:\n",
    "- on the first line print the items\n",
    "- on the next line delete the item from dict\n",
    "\n",
    "What error do we get and why do we get that error?"
   ]
  },
  {
   "cell_type": "code",
   "execution_count": null,
   "id": "8bfd4397-f283-4e91-bc3d-2ae6b86c908e",
   "metadata": {
    "jupyter": {
     "source_hidden": true
    },
    "tags": []
   },
   "outputs": [],
   "source": [
    "# Exameple\n",
    "dt = dict(zip('abcd',range(4)))\n",
    "\n",
    "# The error we get is due to the fact that we are mutating the size\n",
    "# of the dictionary while iterating over it. \n",
    "# Python does not allow this behavior. However it does allow\n",
    "# inplace mutation as long as the dict size remains unchanged\n",
    "for k,v in dt.items():\n",
    "    print(k,v)\n",
    "    del dt[k]"
   ]
  },
  {
   "cell_type": "code",
   "execution_count": 8,
   "id": "7316a4e8-1eb1-4d3e-aef1-111b811e7609",
   "metadata": {},
   "outputs": [],
   "source": [
    "# done"
   ]
  }
 ],
 "metadata": {
  "kernelspec": {
   "display_name": "Python 3 (ipykernel)",
   "language": "python",
   "name": "python3"
  },
  "language_info": {
   "codemirror_mode": {
    "name": "ipython",
    "version": 3
   },
   "file_extension": ".py",
   "mimetype": "text/x-python",
   "name": "python",
   "nbconvert_exporter": "python",
   "pygments_lexer": "ipython3",
   "version": "3.9.5"
  }
 },
 "nbformat": 4,
 "nbformat_minor": 5
}
