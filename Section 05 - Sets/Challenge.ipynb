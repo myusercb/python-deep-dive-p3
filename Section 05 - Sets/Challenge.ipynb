{
 "cells": [
  {
   "cell_type": "markdown",
   "id": "4d4dab60-5b38-49a7-a026-595b6efc42f4",
   "metadata": {},
   "source": [
    "# Sets Challenge"
   ]
  },
  {
   "cell_type": "markdown",
   "id": "5910c2dd-b193-4ce5-b01a-52cf720766d6",
   "metadata": {},
   "source": [
    "## Basic Set Theory\n",
    "> - Elements of sets must be hashable but sets are not hashable\n",
    "> - `Cardinality`: of a set is the number of elements in the set\n",
    "> - `Disjoint sets`: are sets that have no intersecting elements aka have 0 cardinality\n",
    "> - `Subsets`: A set s1 is a subset of set s2 if all elements in s1 are in s2\n",
    "> - `Proper subset`: A set s1 is a proper subset of s2 `IF` s1 is a subset of s2 `AND` s1 is not equal to s2\n",
    "> - `Superset`: A set s1 is a superset of s2 if s2 is a subset of s1\n",
    "> - `Proper superset`: A set s1 is a proper superset of s2 `IF` s2 is a subset of s1 `AND` s1 is not equalt to s2"
   ]
  },
  {
   "cell_type": "markdown",
   "id": "6a4dfd9c-416e-4240-b076-c87309918d3e",
   "metadata": {},
   "source": [
    "## Python sets\n",
    "> - `Cardinality` : len(s)\n",
    "> - `Membership testing` : in / not in\n",
    "> - `Unions` : s1 | s2 / s1.union(s2)\n",
    "> - `Intersections` : s1 & s2 / s1.intersection(s2)\n",
    "> - `Difference` : s1 - s2 / s1.difference(s2)\n",
    "> - `Symetric Difference` : s1 ^ s2 / s1.symetric_difference(s2)\n",
    "> - `Subsets` : s1 <= s2 / s1.issubset(s2)\n",
    "> - 'Propper Subsets' : s1 < s2\n",
    "> - `Superset` : s1 >= s2, s1.issuperset(s2)\n",
    "> - `Proper Superset` : s1 > s2\n",
    "> - `Disjointness` : s1.isdisjoint(s2)\n",
    "\n",
    ">#### Frozen Sets:\n",
    "> - The imutable equivalent of sets `frozenset`\n",
    "> - Membership lookup much faster than any other data types since it's a table hash lookp. eg: <br> \n",
    "> `if a in {10, 20, 30}:`"
   ]
  },
  {
   "cell_type": "markdown",
   "id": "2530ff82-6f2e-4e56-a76b-7ebc75618974",
   "metadata": {},
   "source": [
    "## Create Sets"
   ]
  },
  {
   "cell_type": "markdown",
   "id": "9685ed21-5605-447a-98a2-ded933b2b0e1",
   "metadata": {},
   "source": [
    "### Challenge 1\n",
    "\n",
    "> Create a set using literal notation\n",
    "\n",
    "Create a set `s` using elements `(1,2,3), 'a', 100`. <br>\n",
    "Can you create an empty set using literal notation?"
   ]
  },
  {
   "cell_type": "code",
   "execution_count": 11,
   "id": "d4450eac-8df2-4cc0-94ee-2ae43816904c",
   "metadata": {},
   "outputs": [
    {
     "data": {
      "text/plain": [
       "{(1, 2, 3), 100, 'a'}"
      ]
     },
     "execution_count": 11,
     "metadata": {},
     "output_type": "execute_result"
    }
   ],
   "source": [
    "# Example\n",
    "\n",
    "# Note, empty sets do not have a literal notation\n",
    "\n",
    "s = {(1,2,3), 'a', 100}\n",
    "s"
   ]
  },
  {
   "cell_type": "code",
   "execution_count": null,
   "id": "836b8762-bbf0-4c20-8276-6c2927928f7e",
   "metadata": {},
   "outputs": [],
   "source": []
  },
  {
   "cell_type": "markdown",
   "id": "0f35983d-6d50-4ffc-acfb-532fd2b192d4",
   "metadata": {},
   "source": [
    "### Challenge 2\n",
    "\n",
    "> Create a set using a constructor with an iterable\n",
    "\n",
    "Create a set `s` using a constructor with elements `(1,2,3), 'a', 100`."
   ]
  },
  {
   "cell_type": "code",
   "execution_count": 13,
   "id": "26d953b1-e9c9-4a9b-9b44-d9a9959d597d",
   "metadata": {},
   "outputs": [
    {
     "data": {
      "text/plain": [
       "{(1, 2, 3), 100, 'a'}"
      ]
     },
     "execution_count": 13,
     "metadata": {},
     "output_type": "execute_result"
    }
   ],
   "source": [
    "# Example\n",
    "\n",
    "s = set([(1,2,3), 'a', 100])\n",
    "s"
   ]
  },
  {
   "cell_type": "code",
   "execution_count": null,
   "id": "1f538d0d-9b8a-4c82-956c-6181546d594c",
   "metadata": {},
   "outputs": [],
   "source": []
  },
  {
   "cell_type": "markdown",
   "id": "45039e72-d0b3-4ff4-aec2-5e5aa1541b5f",
   "metadata": {},
   "source": [
    "### Challenge 3\n",
    "\n",
    "> Create an empty set.\n",
    "\n",
    "Create an empty set `s`"
   ]
  },
  {
   "cell_type": "code",
   "execution_count": 12,
   "id": "2c4da813-6ba9-4ac6-b5ea-aaeb677f1aba",
   "metadata": {},
   "outputs": [
    {
     "data": {
      "text/plain": [
       "set()"
      ]
     },
     "execution_count": 12,
     "metadata": {},
     "output_type": "execute_result"
    }
   ],
   "source": [
    "# Example\n",
    "s = set()\n",
    "s"
   ]
  },
  {
   "cell_type": "code",
   "execution_count": null,
   "id": "30bb5e4a-f6e7-4d10-b030-3ccdce9e9d09",
   "metadata": {},
   "outputs": [],
   "source": []
  },
  {
   "cell_type": "markdown",
   "id": "ebc5defc-d136-4d05-bf13-5f9cbc72daef",
   "metadata": {},
   "source": [
    "### Challenge 4\n",
    "\n",
    "> Create an empty set.\n",
    "\n",
    "Create an empty set `s`"
   ]
  },
  {
   "cell_type": "code",
   "execution_count": null,
   "id": "e5e6311f-7022-417d-9475-1973140e49dd",
   "metadata": {},
   "outputs": [],
   "source": []
  },
  {
   "cell_type": "code",
   "execution_count": null,
   "id": "fdb71f1d-1b07-48bb-8bec-8448334b3707",
   "metadata": {},
   "outputs": [],
   "source": []
  },
  {
   "cell_type": "code",
   "execution_count": null,
   "id": "f63458ce-7848-4286-bb63-fcd21e387ea1",
   "metadata": {},
   "outputs": [],
   "source": []
  },
  {
   "cell_type": "code",
   "execution_count": null,
   "id": "ce7660c2-864f-455a-b345-50629b873bab",
   "metadata": {},
   "outputs": [],
   "source": []
  }
 ],
 "metadata": {
  "kernelspec": {
   "display_name": "Python 3 (ipykernel)",
   "language": "python",
   "name": "python3"
  },
  "language_info": {
   "codemirror_mode": {
    "name": "ipython",
    "version": 3
   },
   "file_extension": ".py",
   "mimetype": "text/x-python",
   "name": "python",
   "nbconvert_exporter": "python",
   "pygments_lexer": "ipython3",
   "version": "3.9.5"
  }
 },
 "nbformat": 4,
 "nbformat_minor": 5
}
